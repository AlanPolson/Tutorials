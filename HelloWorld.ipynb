{
 "cells": [
  {
   "cell_type": "code",
   "execution_count": 2,
   "metadata": {
    "collapsed": false
   },
   "outputs": [
    {
     "name": "stdout",
     "output_type": "stream",
     "text": [
      "Hello, World!\n"
     ]
    }
   ],
   "source": [
    "#1: Core Program:\n",
    "print \"Hello, World!\""
   ]
  },
  {
   "cell_type": "code",
   "execution_count": null,
   "metadata": {
    "collapsed": true
   },
   "outputs": [],
   "source": [
    "#2: Force Machine to say whatever you want it to (muhahahahaha!):\n",
    "print \"Alex, thou dost rock!\""
   ]
  },
  {
   "cell_type": "code",
   "execution_count": 3,
   "metadata": {
    "collapsed": true
   },
   "outputs": [],
   "source": [
    "#3: With reading from a file \n",
    "\n",
    "#Step 1: Create the file to read from\n",
    "\n",
    "with open(\"HelloWorld.txt\",\"w\") as f:\n",
    "    f.write(\"Hello, World!\")"
   ]
  },
  {
   "cell_type": "code",
   "execution_count": 4,
   "metadata": {
    "collapsed": false
   },
   "outputs": [
    {
     "name": "stdout",
     "output_type": "stream",
     "text": [
      "Hello, World!\n"
     ]
    }
   ],
   "source": [
    "#Step 2: Read the file\n",
    "with open(\"HelloWorld.txt\", \"r\") as f:\n",
    "    text = f.readline()\n",
    "    print(text)"
   ]
  },
  {
   "cell_type": "code",
   "execution_count": 5,
   "metadata": {
    "collapsed": true
   },
   "outputs": [],
   "source": [
    "#4: With Reading from Multiple files and accepting User Input\n",
    "\n",
    "#Step 1: Create two more files to read from:\n",
    "\n",
    "\"\"\"\n",
    "#Previously Done. Included here for stand-alone-ability\n",
    "#Step 1: Create the file to read from\n",
    "\n",
    "with open(\"HelloWorld.txt\",\"w\") as f:\n",
    "    f.write(\"Hello, World!\")\n",
    "\"\"\"\n",
    "\n",
    "with open(\"AlexRocks.txt\",\"w\") as f:\n",
    "    f.write(\"Alex, thou dost rock!\")\n",
    "    \n",
    "with open(\"AlanRocks.txt\",\"w\") as f:\n",
    "    f.write(\"Alan, thou dost rock!\")"
   ]
  },
  {
   "cell_type": "code",
   "execution_count": 9,
   "metadata": {
    "collapsed": false
   },
   "outputs": [
    {
     "name": "stdout",
     "output_type": "stream",
     "text": [
      "Enter a choice\n",
      " 1) Hello World - 1\n",
      " 2) Alex Rocks - 2\n",
      " 3) Alan Rocks - 3\n",
      "\n",
      " Enter your choice: 3\n",
      "Alan, thou dost rock!\n"
     ]
    }
   ],
   "source": [
    "#Step 2: Read File based on User Input:\n",
    "\n",
    "choice = raw_input(\"Enter a choice\\n 1) Hello World - 1\\n 2) Alex Rocks - 2\\\n",
    "\\n 3) Alan Rocks - 3\\n\\n Enter your choice: \")\n",
    "if choice == '1':\n",
    "    with open(\"HelloWorld.txt\",\"r\") as f:\n",
    "        text = f.read()\n",
    "        print(text)\n",
    "\n",
    "elif choice == '2':\n",
    "    with open(\"AlexRocks.txt\",\"r\") as f:\n",
    "        text = f.read()\n",
    "        print(text)\n",
    "    \n",
    "elif choice == '3':\n",
    "    with open(\"AlanRocks.txt\",\"r\") as f:\n",
    "        text = f.read()\n",
    "        print(text)\n",
    "        \n",
    "else:\n",
    "    print \"Invalid choice!\""
   ]
  },
  {
   "cell_type": "code",
   "execution_count": 14,
   "metadata": {
    "collapsed": false
   },
   "outputs": [
    {
     "name": "stdout",
     "output_type": "stream",
     "text": [
      "Enter a choice\n",
      " 1) Hello World - 1\n",
      " 2) Alex Rocks - 2\n",
      " 3) Alan Rocks - 3\n",
      "\n",
      " Enter your choice: 2\n",
      "Alan, thou dost rock!\n"
     ]
    }
   ],
   "source": [
    "#5 Re-Writing Step 2, above, since much of the code is similar:\n",
    "\n",
    "\"\"\"\n",
    "#Previously Done. Included here for stand-alone-ability\n",
    "#Step 1: Create the file to read from\n",
    "\n",
    "with open(\"HelloWorld.txt\",\"w\") as f:\n",
    "    f.write(\"Hello, World!\")\n",
    "\n",
    "\n",
    "with open(\"AlexRocks.txt\",\"w\") as f:\n",
    "    f.write(\"Alex, thou dost rock!\")\n",
    "    \n",
    "with open(\"AlanRocks.txt\",\"w\") as f:\n",
    "    f.write(\"Alan, thou dost rock!\")\n",
    "\"\"\"\n",
    "\n",
    "file_list = [\"HelloWorld.txt\",\"AlanRocks.txt\",\"AlexRocks.txt\"]\n",
    "\n",
    "choice = raw_input(\"Enter a choice\\n 1) Hello World - 1\\n 2) Alex Rocks - 2\\\n",
    "\\n 3) Alan Rocks - 3\\n\\n Enter your choice: \")\n",
    "\n",
    "if choice == '1'or choice == '2' or choice == '3':\n",
    "    with open(file_list[int(choice)-1],\"r\") as f:\n",
    "        text = f.read()\n",
    "        print(text)\n",
    "else:\n",
    "    print \"Invalid choice!\""
   ]
  },
  {
   "cell_type": "code",
   "execution_count": 19,
   "metadata": {
    "collapsed": false
   },
   "outputs": [
    {
     "name": "stdout",
     "output_type": "stream",
     "text": [
      "Enter a choice\n",
      " 1) Hello World - 1\n",
      " 2) Alex Rocks - 2\n",
      " 3) Alan Rocks - 3\n",
      "\n",
      " Enter your choice: d\n",
      "Invalid choice!\n"
     ]
    }
   ],
   "source": [
    "#6 Re-Writing the above, with a function:\n",
    "\n",
    "\"\"\"\n",
    "#Previously Done. Included here for stand-alone-ability\n",
    "#Step 1: Create the file to read from\n",
    "\n",
    "with open(\"HelloWorld.txt\",\"w\") as f:\n",
    "    f.write(\"Hello, World!\")\n",
    "\n",
    "\n",
    "with open(\"AlexRocks.txt\",\"w\") as f:\n",
    "    f.write(\"Alex, thou dost rock!\")\n",
    "    \n",
    "with open(\"AlanRocks.txt\",\"w\") as f:\n",
    "    f.write(\"Alan, thou dost rock!\")\n",
    "    \n",
    "file_list = [\"HelloWorld.txt\",\"AlanRocks.txt\",\"AlexRocks.txt\"]\n",
    "\n",
    "\"\"\"\n",
    "\n",
    "def OutputTextFile(filename):\n",
    "    with open(filename,\"r\") as f:\n",
    "        text = f.read()\n",
    "        print(text)\n",
    "\n",
    "choice = raw_input(\"Enter a choice\\n 1) Hello World - 1\\n 2) Alex Rocks - 2\\\n",
    "\\n 3) Alan Rocks - 3\\n\\n Enter your choice: \")\n",
    "\n",
    "if choice == '1'or choice == '2' or choice == '3':\n",
    "    OutputTextFile(file_list[int(choice)-1])\n",
    "else:\n",
    "    print \"Invalid choice!\""
   ]
  },
  {
   "cell_type": "code",
   "execution_count": 29,
   "metadata": {
    "collapsed": false
   },
   "outputs": [
    {
     "name": "stdout",
     "output_type": "stream",
     "text": [
      "Enter a choice\n",
      " 1) Hello World - 1\n",
      " 2) Alex Rocks - 2\n",
      " 3) Alan Rocks - 3\n",
      "\n",
      " Enter your choice: d\n",
      "Enter a number between 1 and 3\n"
     ]
    }
   ],
   "source": [
    "#7 Re-Writing the above, with a try catch block:\n",
    "\n",
    "\"\"\"\n",
    "#Previously Done. Included here for stand-alone-ability\n",
    "#Step 1: Create the file to read from\n",
    "\n",
    "with open(\"HelloWorld.txt\",\"w\") as f:\n",
    "    f.write(\"Hello, World!\")\n",
    "\n",
    "\n",
    "with open(\"AlexRocks.txt\",\"w\") as f:\n",
    "    f.write(\"Alex, thou dost rock!\")\n",
    "    \n",
    "with open(\"AlanRocks.txt\",\"w\") as f:\n",
    "    f.write(\"Alan, thou dost rock!\")\n",
    "    \n",
    "file_list = [\"HelloWorld.txt\",\"AlanRocks.txt\",\"AlexRocks.txt\"]\n",
    "\n",
    "def OutputTextFile(filename):\n",
    "    with open(filename,\"r\") as f:\n",
    "        text = f.read()\n",
    "        print(text)\n",
    "\"\"\"\n",
    "\n",
    "choice = raw_input(\"Enter a choice\\n 1) Hello World - 1\\n 2) Alex Rocks - 2\\\n",
    "\\n 3) Alan Rocks - 3\\n\\n Enter your choice: \")\n",
    "\n",
    "try:\n",
    "    ch = int(choice) -1\n",
    "    if ch < 0 or ch > 3:\n",
    "        raise Exception\n",
    "    else:\n",
    "        OutputTextFile(file_list[ch])\n",
    "    \n",
    "except Exception:\n",
    "    print \"Enter a number between 1 and 3\"\n",
    "    "
   ]
  },
  {
   "cell_type": "code",
   "execution_count": 30,
   "metadata": {
    "collapsed": true
   },
   "outputs": [],
   "source": [
    "#HouseKeeping... deleting files we created:\n",
    "\n",
    "import os\n",
    "\n",
    "for f in file_list:\n",
    "    os.remove(f)"
   ]
  },
  {
   "cell_type": "code",
   "execution_count": null,
   "metadata": {
    "collapsed": true
   },
   "outputs": [],
   "source": []
  }
 ],
 "metadata": {
  "kernelspec": {
   "display_name": "Python 2",
   "language": "python",
   "name": "python2"
  },
  "language_info": {
   "codemirror_mode": {
    "name": "ipython",
    "version": 2
   },
   "file_extension": ".py",
   "mimetype": "text/x-python",
   "name": "python",
   "nbconvert_exporter": "python",
   "pygments_lexer": "ipython2",
   "version": "2.7.11"
  }
 },
 "nbformat": 4,
 "nbformat_minor": 0
}
